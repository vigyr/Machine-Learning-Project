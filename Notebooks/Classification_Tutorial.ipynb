{
 "cells": [
  {
   "cell_type": "markdown",
   "metadata": {},
   "source": [
    "<a href=\"http://www.calstatela.edu/centers/hipic\"><img align=\"left\" src=\"https://avatars2.githubusercontent.com/u/4156894?v=3&s=100\"><image/>\n",
    "</a>\n",
    "<img align=\"right\" alt=\"California State University, Los Angeles\" src=\"http://www.calstatela.edu/sites/default/files/groups/California%20State%20University%2C%20Los%20Angeles/master_logo_full_color_horizontal_centered.svg\" style=\"width: 360px;\"/>\n",
    "\n",
    "# CIS5560 Term Project Tutorial\n"
   ]
  },
  {
   "cell_type": "markdown",
   "metadata": {},
   "source": [
    "------\n",
    "#### Authors: [Vignesh Srinivas](https://www.linkedin.com/in/vigyr/); [Natya Srinivasan](https://www.linkedin.com/in/natya-srinivasan-04a47aa0/);  [Abhishek Shah](https://www.linkedin.com/in/abhishek-shah-bb3179a3/)\n",
    "\n",
    "#### Instructor: [Jongwook Woo](https://www.linkedin.com/in/jongwook-woo-7081a85)\n",
    "\n",
    "#### Date: 05/19/2017\n",
    "\n"
   ]
  },
  {
   "cell_type": "markdown",
   "metadata": {},
   "source": [
    "# Creating Classification Models to Predict Grade of a Restaurant\n",
    "\n",
    "In this exercise, you will implement classifications models using *Decision tree Classifier* and *Random Forest classifier* to **predict the Grade of a Resutaurant** - Restaurants in LA County. \n",
    "\n",
    "### **Pre-requisites:**\n",
    "\n",
    "1. A Spark cluster, with default configuration as part of Databricks community edition.\n",
    "2. Dataset for LA County Restaurant Violations. Available to download here : https://drive.google.com/file/d/0B-cqjuwpLeY4c1MxUy1JOGJlcEk/view?usp=sharing\n",
    "3. Databricks community edition account. Signup for free here : https://databricks.com/try-databricks\n",
    "4. SQL Source code which will be used for data preprocessing. Available to download here : https://drive.google.com/file/d/0B-cqjuwpLeY4OGx3dktpU0JiLVE/view?usp=sharing"
   ]
  },
  {
   "cell_type": "markdown",
   "metadata": {},
   "source": [
    "### Creating a Cluster\n",
    "Sign into your databricks account and go to Clusters option on the left and click on create cluster. Give the cluster name and click create cluster. The create cluster window will be like below, <br>\n",
    "<img align=\"left\" src=\"https://raw.githubusercontent.com/vigyr/Calstatela/master/Graphs/Cluster.JPG\" style=\"width: 600px;\" />\n",
    "<br> <br>\n",
    "\n",
    "These are the configuration options for the cluster, <br>\n",
    "**Spark Version :** Spark 2.1 (Auto-updating, Scala 2.10) <br>\n",
    "**Memory –** 6GB Memory , 0.88 Cores, 1 DBU <br>\n",
    "**File System –** DBFS (Data Bricks File System)\n"
   ]
  },
  {
   "cell_type": "markdown",
   "metadata": {},
   "source": [
    "\n",
    "***\n",
    "### Overview\n",
    "You should follow the steps below to build, train and test the model from the source data:\n",
    "\n",
    "1. Import the Restaurant.csv as table in databricks.\n",
    "2. Change the datatype for all the columns as required. \n",
    "3. Preprocess the data by removing outliers.\n",
    "4. Prepare the data with the features (input columns, output column as label)\n",
    "5. Supply index values to the string type values using stringindexer().\n",
    "6. Split the data using data.randomSplit(): Training and Testing;Rename label to trueLabel in test.\n",
    "7. Transform the columns to a vector using VectorAssembler\n",
    "8. set features and label from the vector\n",
    "9. Build a ***Decision tree classifier*** Model with the label and features\n",
    "10. Build a Pipeline with 2 stages, VectorAssembler and Decision tree classifier algorithm. \n",
    "11. Train the piepline model.\n",
    "12. Prepare the testing Data Frame with features and label from the vector.\n",
    "13. Predict and test the testing Data Frame using the model trained at the step 11.\n",
    "14. Compare the predicted result and trueLabel\n",
    "15. Calculate accuracy and test error for this model. \n",
    "16. Repeat the steps 9 - 15, but using ***Random forest classifier*** algorithm, instead of decision tree classifier. \n",
    "17. Compare the accuracy and test error for both models and predict the best model."
   ]
  },
  {
   "cell_type": "markdown",
   "metadata": {},
   "source": [
    "### Upload CSV as a Table \n",
    "The data for this exercise is provided as a CSV file containing details of Resutaurant violations. The data includes specific characteristics (or *features*) for each restaurant violations, as well as a *label* column indicating the final score of a Restaurant after the inspection. \n",
    "\n",
    "You will have to upload the csv file as a table in Databricks similar to below. \n",
    "<br>\n",
    "<img align=\"left\" src=\"https://raw.githubusercontent.com/vigyr/Calstatela/master/Graphs/Databricks-import.JPG\" style=\"width: 600px;\" />\n",
    "<br>\n",
    "***\n"
   ]
  },
  {
   "cell_type": "markdown",
   "metadata": {},
   "source": [
    "Once the table is loaded, using preview table option, change the data type for each of the column as required. (INT for numeric columns and STRING for character columns) and save the table with a name given in this example as rest_vio."
   ]
  },
  {
   "cell_type": "markdown",
   "metadata": {},
   "source": [
    "\n",
    "### Import Spark SQL and Spark ML Libraries\n",
    "\n",
    "First, import the libraries you will need:"
   ]
  },
  {
   "cell_type": "code",
   "execution_count": 1,
   "metadata": {
    "collapsed": false,
    "scrolled": false
   },
   "outputs": [],
   "source": [
    "from pyspark.sql.types import *\n",
    "from pyspark.sql.functions import *\n",
    "\n",
    "from pyspark.ml.feature import StringIndexer\n",
    "from pyspark.ml.classification import DecisionTreeClassifier , RandomForestClassifier\n",
    "from pyspark.ml.feature import VectorAssembler, VectorIndexer\n",
    "from pyspark.ml import Pipeline\n",
    "from pyspark.ml.evaluation import MulticlassClassificationEvaluator\n",
    "from pyspark.ml.tuning import ParamGridBuilder"
   ]
  },
  {
   "cell_type": "markdown",
   "metadata": {
    "collapsed": true
   },
   "source": [
    "### Load Source Data\n",
    "Loading the data from table using a SQL syntax. <br> The source code is also available to download earlier in this tutorial. <br>\n",
    "In our experiment we are considering the coulmns, ACTIVITY, NAME, TOTAL_VIOLATIONS, SCORE (label), VIOLATION_POINTS"
   ]
  },
  {
   "cell_type": "code",
   "execution_count": null,
   "metadata": {
    "collapsed": false
   },
   "outputs": [],
   "source": [
    "data = sqlContext.sql(\"SELECT ACTIVITY,NAME, CAST(count(VIOLATION_CODE) AS DOUBLE) as Total_violations,grade, CAST(score as DOUBLE) as label, CAST(sum(points) as DOUBLE) as Violation_points FROM rest_vio where score >= '65' group by NAME,ACTIVITY,grade,score\")"
   ]
  },
  {
   "cell_type": "markdown",
   "metadata": {},
   "source": [
    "### Removing Outliers\n",
    "Considering the values for Total_violations that are less than 21. Filtering this using a where condition. <br>\n",
    "For total_violations > 21, there are some inconsistencies in data, which will affect our overall prediction accuracy, so its better to elimate them for accurate predictions."
   ]
  },
  {
   "cell_type": "code",
   "execution_count": null,
   "metadata": {
    "collapsed": false,
    "scrolled": false
   },
   "outputs": [],
   "source": [
    "dat = data.select(\"total_violations\",\"label\",\"ACTIVITY\",\"NAME\",\"grade\",\"Violation_points\").where((col(\"Total_violations\") <= \"21\"))"
   ]
  },
  {
   "cell_type": "markdown",
   "metadata": {},
   "source": [
    "### Prepare the Data\n",
    "Most modeling begins with exhaustive exploration and preparation of the data. In this example, you will select Total_violations and Violation_points columns as *features* as well as the **Grade** column, which will be the *label* your model will predict. <br>\n",
    "As the Grade(label) column is of string datatype, we have to supply index values to the Grades in label column. This can be achieved by ***Stringindexer()*** function. The equivalent index values for grades are, **0:'A', 1:'B', 2:'C', 3:'SC'**"
   ]
  },
  {
   "cell_type": "code",
   "execution_count": null,
   "metadata": {
    "collapsed": false
   },
   "outputs": [],
   "source": [
    "indexer = StringIndexer(inputCol=\"grade\", outputCol=\"Grade_Index\")\n",
    "indexed = indexer.fit(dat).transform(dat)\n",
    "indexed_features = indexed.select(\"Total_violations\",col(\"Grade_Index\").alias(\"label\"),\"Violation_points\")\n",
    "ind_features = indexed_features.selectExpr(\"cast(Total_violations as int) Total_violations\",\"cast(label as int) label\",\"cast(Violation_points as int) Violation_points\")"
   ]
  },
  {
   "cell_type": "markdown",
   "metadata": {},
   "source": [
    "The metadata information of the string indexer can be obtained using the following command. "
   ]
  },
  {
   "cell_type": "code",
   "execution_count": null,
   "metadata": {
    "collapsed": true
   },
   "outputs": [],
   "source": [
    "meta = [f.metadata for f in indexed.schema.fields if f.name == \"Grade_Index\"]\n",
    "meta[0]\n",
    "dict(enumerate(meta[0][\"ml_attr\"][\"vals\"]))"
   ]
  },
  {
   "cell_type": "markdown",
   "metadata": {},
   "source": [
    "### Split the Data\n",
    "It is common practice when building supervised machine learning models to split the source data, using some of it to train the model and reserving some to test the trained model. In this exercise, you will use 70% of the data for training, and reserve 30% for testing."
   ]
  },
  {
   "cell_type": "code",
   "execution_count": null,
   "metadata": {
    "collapsed": false
   },
   "outputs": [],
   "source": [
    "splits = ind_features.randomSplit([0.7, 0.3])\n",
    "train = splits[0]\n",
    "test = splits[1].withColumnRenamed(\"label\", \"trueLabel\")\n",
    "print \"We have %d training examples and %d test examples.\" % (train.count(), test.count())"
   ]
  },
  {
   "cell_type": "markdown",
   "metadata": {},
   "source": [
    "### Build the Pipeline for Model 1\n",
    "To train the classification model, you need to build a piepline that has two stages. First will be the Vector assembler that includes a vector of numeric features, and a label column. In this exercise, you will use the **VectorAssembler** class to transform the feature columns into a vector. Second stage will be classification algorithm you want to use. In this exercise, for first model you will use a ***Decision Tree Classifier algorithm*** though you can use the same technique for any of the classification algorithms supported in the spark.ml API."
   ]
  },
  {
   "cell_type": "code",
   "execution_count": null,
   "metadata": {
    "collapsed": false,
    "scrolled": false
   },
   "outputs": [],
   "source": [
    "vectorAssembler = VectorAssembler(inputCols=[\"Total_violations\",\"Violation_points\"], outputCol=\"features\")\n",
    "#Model1 - Decision Tree \n",
    "dt = DecisionTreeClassifier(labelCol=\"label\", featuresCol= \"features\")\n",
    "pipeline1 = Pipeline(stages=[vectorAssembler, dt])"
   ]
  },
  {
   "cell_type": "markdown",
   "metadata": {},
   "source": [
    "### Train the Pipeline Model 1\n",
    "\n",
    "Now you can train the pipeline model against your training data."
   ]
  },
  {
   "cell_type": "code",
   "execution_count": null,
   "metadata": {
    "collapsed": true
   },
   "outputs": [],
   "source": [
    "model1 = pipeline1.fit(train)"
   ]
  },
  {
   "cell_type": "markdown",
   "metadata": {},
   "source": [
    "### Test the Model 1\n",
    "Now you're ready to use the **transform** method of the model to generate some predictions. You can use this approach to predict grade of a restaurant where the label is unknown; but in this case you are using the test data which includes a known true label value, so you can compare the predicted grade. "
   ]
  },
  {
   "cell_type": "code",
   "execution_count": null,
   "metadata": {
    "collapsed": false
   },
   "outputs": [],
   "source": [
    "prediction1 = model1.transform(test)\n",
    "predicted1 = prediction1.select(\"prediction\", \"trueLabel\")\n",
    "display(predicted1)"
   ]
  },
  {
   "cell_type": "markdown",
   "metadata": {},
   "source": [
    "### Calculate the Accuracy for Model 1\n",
    "Using the evaluation metrics as Accuracy and Test error, the Decision tree classifier model performance is calculated. "
   ]
  },
  {
   "cell_type": "code",
   "execution_count": null,
   "metadata": {
    "collapsed": false,
    "scrolled": false
   },
   "outputs": [],
   "source": [
    "evaluator1 = MulticlassClassificationEvaluator(labelCol=\"trueLabel\", predictionCol=\"prediction\", metricName=\"accuracy\")\n",
    "accuracy1 = evaluator1.evaluate(prediction1)\n",
    "print \"Average Accuracy =\", accuracy1\n",
    "print \"Test Error = \", (1 - accuracy1)\n",
    "\n",
    "treeModel = model1.stages[1]\n",
    "# summary only\n",
    "print(treeModel)"
   ]
  },
  {
   "cell_type": "markdown",
   "metadata": {},
   "source": [
    "### Result shows:\n",
    "#### `The Accuracy for Decision tree classification model : 0.9974`\n",
    "#### `The Test error for Decision tree classification model : 0.0025`\n",
    "\n",
    "The result is how accurate - the grade of a restaurant - are in this spark prediction down to."
   ]
  },
  {
   "cell_type": "markdown",
   "metadata": {},
   "source": [
    "---\n",
    "### Build the Pipeline for Model 2\n",
    "Now, we will use ***Random forest classifier algorithm*** as our second model and build the pipeline for this model. The first stage will be the vector assembler we created earlier, and second stage will be the Random forest classifier algorithm which can be created as below."
   ]
  },
  {
   "cell_type": "code",
   "execution_count": null,
   "metadata": {
    "collapsed": true
   },
   "outputs": [],
   "source": [
    "vectorAssembler = VectorAssembler(inputCols=[\"Total_violations\",\"Violation_points\"], outputCol=\"features\")\n",
    "rf = RandomForestClassifier(labelCol=\"label\", featuresCol= \"features\", numTrees=30)\n",
    "pipeline2 = Pipeline(stages=[vectorAssembler,rf])"
   ]
  },
  {
   "cell_type": "markdown",
   "metadata": {},
   "source": [
    "### Train the Pipeline Model 2\n",
    "Now you can train this second pipeline model against your training data."
   ]
  },
  {
   "cell_type": "code",
   "execution_count": null,
   "metadata": {
    "collapsed": true
   },
   "outputs": [],
   "source": [
    "model2 = pipeline2.fit(train)"
   ]
  },
  {
   "cell_type": "markdown",
   "metadata": {},
   "source": [
    "### Test the Model 2\n",
    "Now you're ready to use the transform method of the model to generate some predictions. You can use this approach to predict grade of a restaurant where the label is unknown; but in this case you are using the test data which includes a known true label value, so you can compare the predicted grade. "
   ]
  },
  {
   "cell_type": "code",
   "execution_count": null,
   "metadata": {
    "collapsed": true
   },
   "outputs": [],
   "source": [
    "prediction2 = model2.transform(test)\n",
    "predicted2 = prediction2.select(\"prediction\", \"trueLabel\")\n",
    "display(predicted2)"
   ]
  },
  {
   "cell_type": "markdown",
   "metadata": {},
   "source": [
    "### Calculate the Accuracy for Model 2\n",
    "Using the evaluation metrics as Accuracy and Test error, the Random Forest classifier model performance is calculated. "
   ]
  },
  {
   "cell_type": "code",
   "execution_count": null,
   "metadata": {
    "collapsed": true
   },
   "outputs": [],
   "source": [
    "evaluator2 = MulticlassClassificationEvaluator(labelCol=\"trueLabel\", predictionCol=\"prediction\", metricName=\"accuracy\")\n",
    "accuracy2 = evaluator2.evaluate(prediction2)\n",
    "print \"Average Accuracy =\", accuracy2\n",
    "print \"Test Error = \", (1 - accuracy2)\n",
    "\n",
    "rfModel = model2.stages[1]\n",
    "print(rfModel)  # summary only"
   ]
  },
  {
   "cell_type": "markdown",
   "metadata": {},
   "source": [
    "### Result shows:\n",
    "#### `The Accuracy for Random Forest classification model : 0.9975`\n",
    "#### `The Test error for Random Forest classification model : 0.0024`\n",
    "\n",
    "The result is how accurate - the grade of a restaurant - are in this spark prediction down to."
   ]
  },
  {
   "cell_type": "markdown",
   "metadata": {},
   "source": [
    "## Comparing the Best Model\n",
    "On comparing the accuracy values for both the models, Model 2 - Random forest classifier  is slightly better than Model1, because of higher accuracy rate.***(0.9975)***. ** Hence Random forest classifier model (Model 2) is accurate model for this experiment.** <br>\n",
    "Other evaluation metrics like confusion matrix, recall, precision cannot be calculated in databricks for multi-class Classification. "
   ]
  },
  {
   "cell_type": "markdown",
   "metadata": {
    "collapsed": true
   },
   "source": [
    "### References:\n",
    "1. [String Indexer](http://stackoverflow.com/questions/33636944/preserve-index-string-correspondence-spark-string-indexer)\n",
    "2. [Evaluation Metrics in Spark](https://spark.apache.org/docs/2.1.0/mllib-evaluation-metrics.html)\n",
    "1. [Markdown Cells in Jupyter](http://jupyter-notebook.readthedocs.io/en/latest/examples/Notebook/Working%20With%20Markdown%20Cells.html)\n",
    "1. [Markdown Cheatsheet](https://datascience.ibm.com/docs/content/analyze-data/markd-jupyter.html)\n",
    "1. [Markdown Guide](https://help.ghost.org/hc/en-us/articles/224410728-Markdown-Guide)"
   ]
  }
 ],
 "metadata": {
  "kernelspec": {
   "display_name": "Python 2 with Spark 2.0",
   "language": "python",
   "name": "python2-spark20"
  },
  "language_info": {
   "codemirror_mode": {
    "name": "ipython",
    "version": 2
   },
   "file_extension": ".py",
   "mimetype": "text/x-python",
   "name": "python",
   "nbconvert_exporter": "python",
   "pygments_lexer": "ipython2",
   "version": "2.7.11"
  }
 },
 "nbformat": 4,
 "nbformat_minor": 1
}